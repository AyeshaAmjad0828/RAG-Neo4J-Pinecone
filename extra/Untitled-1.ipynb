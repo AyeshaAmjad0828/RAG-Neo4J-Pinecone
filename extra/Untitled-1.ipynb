{
 "cells": [
  {
   "cell_type": "code",
   "execution_count": 1,
   "metadata": {},
   "outputs": [
    {
     "name": "stderr",
     "output_type": "stream",
     "text": [
      "c:\\Users\\ayesha.amjad\\AppData\\Local\\Programs\\Python\\Python310\\lib\\site-packages\\tqdm\\auto.py:21: TqdmWarning: IProgress not found. Please update jupyter and ipywidgets. See https://ipywidgets.readthedocs.io/en/stable/user_install.html\n",
      "  from .autonotebook import tqdm as notebook_tqdm\n",
      "tokenizer_config.json: 100%|██████████| 48.0/48.0 [00:00<00:00, 82.2kB/s]\n",
      "c:\\Users\\ayesha.amjad\\AppData\\Local\\Programs\\Python\\Python310\\lib\\site-packages\\huggingface_hub\\file_download.py:149: UserWarning: `huggingface_hub` cache-system uses symlinks by default to efficiently store duplicated files but your machine does not support them in C:\\Users\\ayesha.amjad\\.cache\\huggingface\\hub\\models--bert-base-uncased. Caching files will still work but in a degraded version that might require more space on your disk. This warning can be disabled by setting the `HF_HUB_DISABLE_SYMLINKS_WARNING` environment variable. For more details, see https://huggingface.co/docs/huggingface_hub/how-to-cache#limitations.\n",
      "To support symlinks on Windows, you either need to activate Developer Mode or to run Python as an administrator. In order to see activate developer mode, see this article: https://docs.microsoft.com/en-us/windows/apps/get-started/enable-your-device-for-development\n",
      "  warnings.warn(message)\n",
      "config.json: 100%|██████████| 570/570 [00:00<00:00, 610kB/s]\n",
      "vocab.txt: 100%|██████████| 232k/232k [00:01<00:00, 231kB/s]\n",
      "tokenizer.json: 100%|██████████| 466k/466k [00:01<00:00, 451kB/s]\n"
     ]
    },
    {
     "name": "stdout",
     "output_type": "stream",
     "text": [
      "Number of tokens: 11\n"
     ]
    }
   ],
   "source": [
    "from transformers import AutoTokenizer\n",
    "\n",
    "# Define the tokenizer using \"bert-base-uncased\"\n",
    "tokenizer = AutoTokenizer.from_pretrained(\"bert-base-uncased\")\n",
    "\n",
    "# Function to calculate the number of tokens in a text\n",
    "def bert_len(text):\n",
    "    tokens = tokenizer.encode(text)\n",
    "    return len(tokens)\n",
    "\n",
    "# Example usage\n",
    "input_text = \"This is a sample sentence for tokenization.\"\n",
    "num_tokens = bert_len(input_text)\n",
    "print(f\"Number of tokens: {num_tokens}\")"
   ]
  },
  {
   "cell_type": "code",
   "execution_count": null,
   "metadata": {},
   "outputs": [],
   "source": [
    "import torch\n",
    "from transformers import BertTokenizer, BertModel\n",
    "\n",
    "def create_bert_embeddings(texts, model_name=\"bert-base-uncased\", max_length=512):\n",
    "    # Load pre-trained tokenizer and model\n",
    "    tokenizer = BertTokenizer.from_pretrained(model_name)\n",
    "    model = BertModel.from_pretrained(model_name)\n",
    "    model.eval()\n",
    "\n",
    "    # Tokenize and pad texts\n",
    "    inputs = tokenizer(texts, padding=True, truncation=True, max_length=max_length, return_tensors=\"pt\")\n",
    "\n",
    "    # Forward pass to get embeddings\n",
    "    with torch.no_grad():\n",
    "        outputs = model(**inputs)\n",
    "\n",
    "    # Extract the last layer hidden states\n",
    "    embeddings = outputs.last_hidden_state\n",
    "\n",
    "    return embeddings\n",
    "\n",
    "if __name__ == \"__main__\":\n",
    "    # Example usage\n",
    "    texts = [\n",
    "        \"Hello, how are you?\",\n",
    "        \"What is the meaning of life?\",\n",
    "        \"Python is an amazing language for AI.\"\n",
    "    ]\n",
    "    embeddings = create_bert_embeddings(texts)\n",
    "\n",
    "    # Shape of embeddings: [batch_size, sequence_length, hidden_size]\n",
    "    print(\"Embeddings shape:\", embeddings.shape)\n"
   ]
  },
  {
   "cell_type": "code",
   "execution_count": 1,
   "metadata": {},
   "outputs": [
    {
     "name": "stdout",
     "output_type": "stream",
     "text": [
      "{'question': ['When was the first super bowl?', 'Who won the most super bowls?'], 'answer': ['The first Super Bowl was held on January 15, 1967.', 'The Pittsburgh Steelers and the New England Patriots have each won six Super Bowls, the most of any team.']}\n"
     ]
    }
   ],
   "source": [
    "import json\n",
    "\n",
    "def answer_question(question):\n",
    "    # Placeholder function logic for answering questions\n",
    "    if question == \"When was the first super bowl?\":\n",
    "        return \"The first Super Bowl was held on January 15, 1967.\"\n",
    "    elif question == \"Who won the most super bowls?\":\n",
    "        return \"The Pittsburgh Steelers and the New England Patriots have each won six Super Bowls, the most of any team.\"\n",
    "    return \"Question not recognized\"\n",
    "\n",
    "def process_questions(json_file):\n",
    "    # Read the JSON file\n",
    "    with open(json_file, 'r') as file:\n",
    "        data = json.load(file)\n",
    "    \n",
    "    # List to hold the results\n",
    "    results = {\"question\": [], \"answer\": []}\n",
    "\n",
    "    # Iterate through the list of questions\n",
    "    for question in data[\"question\"]:\n",
    "        answer = answer_question(question)\n",
    "        results[\"question\"].append(question)\n",
    "        results[\"answer\"].append(answer)\n",
    "    \n",
    "    return results\n",
    "\n",
    "# Assuming the JSON file is named 'questions.json' and located in the same directory as this script\n",
    "results = process_questions('test2.json')\n",
    "print(results)\n"
   ]
  }
 ],
 "metadata": {
  "kernelspec": {
   "display_name": "Python 3",
   "language": "python",
   "name": "python3"
  },
  "language_info": {
   "codemirror_mode": {
    "name": "ipython",
    "version": 3
   },
   "file_extension": ".py",
   "mimetype": "text/x-python",
   "name": "python",
   "nbconvert_exporter": "python",
   "pygments_lexer": "ipython3",
   "version": "3.10.0"
  }
 },
 "nbformat": 4,
 "nbformat_minor": 2
}
