{
  "cells": [
    {
      "cell_type": "code",
      "execution_count": 1,
      "metadata": {
        "id": "vdsvKd6q4PhU"
      },
      "outputs": [],
      "source": [
        "pip install --quiet langchain_community tiktoken langchain-openai langchainhub langchain neo4j python-dotenv"
      ]
    },
    {
      "cell_type": "code",
      "execution_count": 2,
      "metadata": {
        "id": "67_dTM6n4Qkz"
      },
      "outputs": [],
      "source": [
        "pip install --upgrade --quiet langchain-together"
      ]
    },
    {
      "cell_type": "code",
      "execution_count": 3,
      "metadata": {
        "id": "kuIf4Qmw4QzH"
      },
      "outputs": [],
      "source": [
        "pip install --quiet langchain_experimental langchain_openai langchain_core"
      ]
    },
    {
      "cell_type": "code",
      "execution_count": 39,
      "metadata": {
        "id": "qdQVqIxg24R-"
      },
      "outputs": [],
      "source": [
        "from langchain_community.embeddings import OpenAIEmbeddings\n",
        "from langchain_community.vectorstores import Neo4jVector\n",
        "import openai\n",
        "from openai import OpenAI\n",
        "import os\n",
        "import json\n",
        "from dotenv import load_dotenv\n",
        "from operator import itemgetter\n",
        "from neo4j import GraphDatabase\n",
        "\n",
        "from langchain_community.chat_models import ChatOpenAI\n",
        "from langchain_core.output_parsers import StrOutputParser\n",
        "from langchain_core.prompts import ChatPromptTemplate\n",
        "from langchain_core.pydantic_v1 import BaseModel\n",
        "from langchain_core.runnables import ConfigurableField, RunnableParallel\n",
        "from langchain_together import Together\n"
      ]
    },
    {
      "cell_type": "markdown",
      "metadata": {
        "id": "tCqkrY3-tMbW"
      },
      "source": [
        "ALL KEYS"
      ]
    },
    {
      "cell_type": "code",
      "execution_count": 17,
      "metadata": {
        "id": "Ge3cqzxutO5N"
      },
      "outputs": [],
      "source": [
        "# Load environment variables from .env file\n",
        "#load_dotenv('.env')\n",
        "\n",
        "openai_api_key = '<your OPENAI API KEY>'\n",
        "uri = \"<YOUR NEO4J URI>\"  # replace with your actual AuraDB URI\n",
        "username = \"<YOUR neo4j>\"  # default is usually 'neo4j'\n",
        "password = \"<YOUR NEO4J_PASSWORD>\"\n",
        "\n",
        "HF_token = \"<YOUR HF TOKEN>\"\n",
        "\n",
        "togetherai_api_key = \"<YOUR TOGETHER AI API>\""
      ]
    },
    {
      "cell_type": "markdown",
      "metadata": {
        "id": "pf5-85FNsrUW"
      },
      "source": [
        "NEO4J RETRIEVERS"
      ]
    },
    {
      "cell_type": "code",
      "execution_count": 18,
      "metadata": {
        "id": "WqiG7eMvAYRe"
      },
      "outputs": [],
      "source": [
        "\n",
        "# Typical RAG retriever\n",
        "\n",
        "typical_rag = Neo4jVector.from_existing_index(\n",
        "    OpenAIEmbeddings(openai_api_key=openai_api_key), index_name=\"typical_rag\",\n",
        "    url=uri,\n",
        "    username=username,\n",
        "    password=password)\n",
        "\n",
        "# Parent retriever\n",
        "\n",
        "parent_query = \"\"\"\n",
        "MATCH (node)<-[:HAS_CHILD]-(parent)\n",
        "WITH parent, max(score) AS score // deduplicate parents\n",
        "RETURN parent.text AS text, score, {} AS metadata LIMIT 1\n",
        "\"\"\"\n",
        "\n",
        "parent_vectorstore = Neo4jVector.from_existing_index(\n",
        "    OpenAIEmbeddings(openai_api_key=openai_api_key),\n",
        "    index_name=\"parent_document\",\n",
        "    retrieval_query=parent_query,\n",
        "    url=uri,\n",
        "    username=username,\n",
        "    password=password\n",
        ")\n",
        "\n",
        "# Hypothetic questions retriever\n",
        "\n",
        "hypothetic_question_query = \"\"\"\n",
        "MATCH (node)<-[:HAS_QUESTION]-(parent)\n",
        "WITH parent, max(score) AS score // deduplicate parents\n",
        "RETURN parent.text AS text, score, {} AS metadata\n",
        "\"\"\"\n",
        "\n",
        "hypothetic_question_vectorstore = Neo4jVector.from_existing_index(\n",
        "    OpenAIEmbeddings(openai_api_key=openai_api_key),\n",
        "    index_name=\"hypothetical_questions\",\n",
        "    retrieval_query=hypothetic_question_query,\n",
        "    url=uri,\n",
        "    username=username,\n",
        "    password=password\n",
        ")\n",
        "# Summary retriever\n",
        "\n",
        "summary_query = \"\"\"\n",
        "MATCH (node)<-[:HAS_SUMMARY]-(parent)\n",
        "WITH parent, max(score) AS score // deduplicate parents\n",
        "RETURN parent.text AS text, score, {} AS metadata\n",
        "\"\"\"\n",
        "\n",
        "summary_vectorstore = Neo4jVector.from_existing_index(\n",
        "    OpenAIEmbeddings(openai_api_key=openai_api_key),\n",
        "    index_name=\"summary\",\n",
        "    retrieval_query=summary_query,\n",
        "    url=uri,\n",
        "    username=username,\n",
        "    password=password\n",
        ")"
      ]
    },
    {
      "cell_type": "markdown",
      "metadata": {
        "id": "6PFI5DSO1JZl"
      },
      "source": [
        "CHAT MODELS"
      ]
    },
    {
      "cell_type": "code",
      "execution_count": 26,
      "metadata": {
        "id": "0xhfhMCs1QF0"
      },
      "outputs": [],
      "source": [
        "llmtype = 'gpt4'\n",
        "\n",
        "if llmtype == 'gpt4':\n",
        "  llm = ChatOpenAI(temperature=0,\n",
        "                   openai_api_key=openai_api_key,\n",
        "                   model='gpt-4-turbo-preview')\n",
        "elif llmtype == 'llama2':\n",
        "  llm = Together(\n",
        "      model=\"togethercomputer/LLaMA-2-7B-32K\",\n",
        "      temperature=0.5,\n",
        "      max_tokens=1024,\n",
        "      together_api_key=togetherai_api_key)\n",
        "elif llmtype == 'llama3':\n",
        "  llm = Together(\n",
        "      model=\"meta-llama/Llama-3-8b-chat-hf\",\n",
        "      temperature=0.5,\n",
        "      max_tokens=1024,\n",
        "      together_api_key=togetherai_api_key)\n",
        "elif llmtype == 'Qwen':\n",
        "  llm = Together(\n",
        "      model=\"Qwen/Qwen1.5-1.8B-Chat\",\n",
        "      temperature=0.5,\n",
        "      max_tokens=1024,\n",
        "      together_api_key=togetherai_api_key)\n",
        "else:\n",
        "  llm = Together(\n",
        "      model=\"mistralai/Mixtral-8x22B\",\n",
        "      temperature=0.5,\n",
        "      max_tokens=1024,\n",
        "      together_api_key=togetherai_api_key)"
      ]
    },
    {
      "cell_type": "markdown",
      "metadata": {
        "id": "dnKNl5pos7Dg"
      },
      "source": [
        "PROMPT CHAIN"
      ]
    },
    {
      "cell_type": "code",
      "execution_count": null,
      "metadata": {
        "colab": {
          "base_uri": "https://localhost:8080/"
        },
        "id": "SXGgku5ZAYUi",
        "outputId": "616aac16-3e2b-4461-e13a-8f7c1d6b285f"
      },
      "outputs": [],
      "source": [
        "index_name = \"typical_rag\"  #typical_rag, parent_document, summary, hypothetical_questions\n",
        "\n",
        "template = \"\"\"\n",
        "Answer the question based only on the following CONTEXT:\n",
        "{context}\n",
        "\n",
        "Question: {question}\n",
        "\n",
        "Please be truthful. Keep in mind, you will lose the job, if you answer out of CONTEXT questions.\n",
        "If the responses are irrelevant to the question then respond by saying that I couldn't find a good response to your query in the database.\n",
        "\"\"\"\n",
        "prompt = ChatPromptTemplate.from_template(template)\n",
        "\n",
        "retriever = typical_rag.as_retriever().configurable_alternatives(\n",
        "    ConfigurableField(id=\"strategy\"),\n",
        "    default_key=index_name,\n",
        "    parent_strategy=parent_vectorstore.as_retriever(),\n",
        "    hypothetical_questions=hypothetic_question_vectorstore.as_retriever(),\n",
        "    summary_strategy=summary_vectorstore.as_retriever(),\n",
        ")\n",
        "\n",
        "# Function to print and pass the context\n",
        "\n",
        "chain = (\n",
        "    RunnableParallel(\n",
        "        {\n",
        "            \"context\": itemgetter(\"question\") | retriever,\n",
        "            \"question\": itemgetter(\"question\"),\n",
        "        }\n",
        "    )\n",
        "    | prompt\n",
        "    | llm\n",
        "    | StrOutputParser()\n",
        ")\n",
        "\n",
        "\n",
        "# Add typing for input\n",
        "class Question(BaseModel):\n",
        "    question: str\n",
        "\n",
        "\n",
        "chain = chain.with_types(input_type=Question)\n",
        "#print(chain)"
      ]
    },
    {
      "cell_type": "markdown",
      "metadata": {
        "id": "fsrgZKrqGqXf"
      },
      "source": [
        "GENERATE ANSWERS"
      ]
    },
    {
      "cell_type": "code",
      "execution_count": 109,
      "metadata": {
        "colab": {
          "base_uri": "https://localhost:8080/"
        },
        "id": "HnFsFqYBHgYD",
        "outputId": "c31d005a-3700-432d-df11-ad14c021e1fb"
      },
      "outputs": [
        {
          "name": "stdout",
          "output_type": "stream",
          "text": [
            "['How long is the term of office for the President in the Federation of Pakistan?', \"Which country's constitution is being discussed in the text?\", 'How many members can the Cabinet of the Provincial Assembly have according to the Constitution?']\n"
          ]
        }
      ],
      "source": [
        "# Path to the JSON file\n",
        "file_path = 'input/questions.json'  #replace with your own path after uploading file to google drive\n",
        "\n",
        "# Open the file and load the data\n",
        "with open(file_path, 'r') as file:\n",
        "    data = json.load(file)\n",
        "\n",
        "\n",
        "questions = data['question']\n",
        "print(questions)"
      ]
    },
    {
      "cell_type": "code",
      "execution_count": 116,
      "metadata": {
        "colab": {
          "base_uri": "https://localhost:8080/"
        },
        "id": "wjp_ziJiAYXx",
        "outputId": "32e9fdf6-b385-4837-d110-9738d1dbbcf8"
      },
      "outputs": [
        {
          "name": "stdout",
          "output_type": "stream",
          "text": [
            "{'retrieved_content': '', 'response': 'The term of office for the President in the Federation of Pakistan is five years from the day he enters upon his office.'}\n",
            "{'retrieved_content': '', 'response': 'The constitution being discussed in the text is that of the Islamic Republic of Pakistan.'}\n",
            "{'retrieved_content': '', 'response': 'The Cabinet of the Provincial Assembly can have up to fifteen members or eleven percent of the total membership of the Provincial Assembly, whichever is higher.'}\n"
          ]
        }
      ],
      "source": [
        "import re\n",
        "question_responses = {}\n",
        "#original_query = \"How many members can the Cabinet of the Provincial Assembly have according to the Constitution?\"\n",
        "for question in questions:\n",
        "  answer = chain.invoke({\"question\": question},{\"configurable\": {\"strategy\": index_name}},)\n",
        "  retrieves = retriever.invoke(question)\n",
        "  #print(retrieves)\n",
        "  data_str = str(retrieve)\n",
        "  page_contents = re.findall(r\"Document\\(page_content='(.*?)'\\)\", data_str, re.DOTALL)\n",
        "  context = \", \".join(page_contents)\n",
        "\n",
        "  question_responses[question] = {\n",
        "      'retrieved_content': context,\n",
        "      'response': answer\n",
        "      }\n",
        "\n",
        "  print(question_responses[question])\n",
        "\n"
      ]
    },
    {
      "cell_type": "code",
      "execution_count": 117,
      "metadata": {
        "colab": {
          "base_uri": "https://localhost:8080/"
        },
        "id": "ttCT87Vftq1f",
        "outputId": "8051e516-e001-4985-b9d9-e48d31963367"
      },
      "outputs": [
        {
          "name": "stdout",
          "output_type": "stream",
          "text": [
            "{'retrieved_content': 'PART III \\\\nThe Federation of Pakistan \\\\nCHAPTER 1.–T HE PRESIDENT \\\\n41.(1)There shall be a President of Pakistan who shall be the \\\\nHead of State and shall represent the unity of the Republic.\\\\n(2)A person shall not be qualified for election as \\\\nPresident unless he is a Muslim of not less than forty-five years \\\\nof age and is qualified to be elected as member of the National\\\\nAssembly.\\\\n1[(3) The President 2* * * shall be elected in accordance with \\\\nthe provisions of the Second Schedule by the members of an \\\\nelectoral college consisting of–– \\\\n(a)the members of both Houses; and \\\\n(b)the members of the Provincial Assemblies.]\\\\n(4)Election to the office of President shall be held not\\\\nearlier than sixty days and not later than thirty days before the \\\\nexpiration of the term of the President in office:\\\\nProvided that, if the election cannot be held within the \\\\nperiod aforesaid because the National Assembly is dissolved, it\\\\nshall be held within thirty days of the general election to the \\\\nAssembly.\\\\n(5)An election to fill a vacancy in the office of President\\\\nshall be held not later than thirty days from the occurrence of the \\\\nvacancy :\\\\nProvided that, if the election cannot be held within the \\\\nperiod aforesaid because the National Assembly is dissolved, it\\\\nshall be held within thirty days of the general election to the \\\\nAssembly.\\\\n(6)The validity of the election of the President shall not\\\\nbe called in question by or before any court or other authority.The President.CONSTITUTION OF PAKISTAN 21 \\\\n–––––––––––––––––––––––––––––––––––––––––––––––––––––––––––––––––––––– \\\\n1Subs. by P. O. No. 14 of 1985, Art. 2 and Sch., for ‘‘clause (3)’’.\\\\n2Certain words omitted by the Constitution (Eighteenth Amdt.) Act, 2010 (10 of\\\\n2010), s. 13., 1* * * * * * * \\\\n42.Before entering upon office, the President shall make \\\\nbefore the Chief Justice of Pakistan oath in the form set\\\\nout in the Third Schedule.\\\\n43.(1)The President shall not hold any office of profit\\\\nin the service of Pakistan or occupy any other position \\\\ncarrying the right to remuneration for the rendering of\\\\nservices.\\\\n(2)The President shall not be a candidate for\\\\nelection as a member of 2[Majlis-e-Shoora (Parliament)]\\\\nor a Provincial Assembly; and , if a member of 2[Majlis-e-\\\\nShoora (Parliament)] or a Provincial Assembly is elected \\\\nas President, his seat in 2[Majlis-e-Shoora (Parliament)]\\\\nor, as the case may be, the Provincial Assembly shall\\\\nbecome vacant on the day he enters upon his office.\\\\n44.(1)Subject to the Constitution, the President shall\\\\nhold office for a term of five years from the day he enters \\\\nupon his office :\\\\nProvided that the President shall, notwithstanding the \\\\nexpiration of his terms, continue to hold office until his \\\\nsuccessor enters upon his office.\\\\n(2)Subject to the Constitution, a person holding \\\\noffice as President shall be eligible for re-election to that\\\\noffice, but no person shall hold that office for more than \\\\ntwo consecutive terms.\\\\n(3)The President may, by writing under his hand \\\\naddressed to the Speaker of the National Assembly, resign \\\\nhis office.Oath of \\\\nPresident.\\\\nConditions of \\\\nPresident’s \\\\noffice.\\\\nTerm of \\\\noffice of \\\\nPresident.22 CONSTITUTION OF PAKISTAN \\\\n––––––––––––––––––––––––––––––––––––––––––––––––––––––––––––––––––––––– \\\\n1Clauses (7) to (9) Omitted by the Constitution (Eighteenth Amdt.) Act, 2010 \\\\n(10 of 2010), s. 13.\\\\n2See footnote 9 on page 5, supra. , ARTICLES PAGE \\\\nPART III 21–56 \\\\nThe Federation of Pakistan \\\\nCHAPTER 1.–T HE PRESIDENT 21–25 \\\\n41.The President.\\\\n42.Oath of President.\\\\n43.Conditions of President’s office.\\\\n44.Term of office of President.\\\\n45.President’s power to grant pardon, etc.\\\\n46.President to be kept informed.\\\\n47.Removal or impeachment of President.\\\\n48.President to act on advice, etc.\\\\n49.Chairman or Speaker to act as, or perform \\\\nfunctions of, President.\\\\nCHAPTER 2.–T HE MAJLIS -E-S HOORA (P ARLIAMENT ).25–52 \\\\nComposition, Duration and Meetings of \\\\nMajlis-e-Shoora (Parliament). \\\\n50.Majlis-e-Shoora (Parliament).\\\\n51.National Assembly.\\\\n52.Duration of National Assembly.\\\\n53.Speaker and Deputy Speaker of National\\\\nAssembly.\\\\n54.Summoning and prorogation of Majlis-e-Shoora \\\\n(Parliament).\\\\n55.Voting in Assembly and quorum.\\\\n56.Address by President.\\\\n57.Right to speak in Majlis-e-Shoora (Parliament).\\\\n58.Dissolution of the National Assembly.\\\\n59.The Senate.\\\\n60.Chairman and Deputy Chairman.\\\\n61.Other provisions relating to Senate.\\\\nProvisions as to Members of Majlis-e-Shoora (Parliament) \\\\n62.Qualifications for membership of Majlis-e-Shoora \\\\n(Parliament).CONSTITUTION OF PAKISTAN \\\\n(iii), 28 CONSTITUTION OF PAKISTAN \\\\n52. The National Assembly shall, unless sooner dissolved,\\\\ncontinue for a term of five years from the day of its first meeting \\\\nand shall stand dissolved at the expiration of its term.\\\\n53. (1)After a general election, the National Assembly shall,\\\\nat its first meeting and to the exclusion of any other business,\\\\nelect from amongst its members a Speaker and a Deputy Speaker\\\\nand, so often as the office of Speaker or Deputy Speaker becomes \\\\nvacant, the Assembly shall elect another member as Speaker or,\\\\nas the case may be, Deputy Speaker.\\\\n(2)Before entering upon office, a member elected as \\\\nSpeaker or Deputy Speaker shall make before the National\\\\nAssembly oath in the form set out in the Third Schedule.\\\\n(3)When the office of Speaker is vacant, or the Speaker\\\\nis absent or is unable to perform his functions due to any cause,\\\\nthe Deputy Speaker shall act as speaker, and if, at that time, the \\\\nDeputy Speaker is also absent or is unable to act as Speaker due \\\\nto any cause, such member as may be determined by the rules of\\\\nprocedure of the Assembly shall preside at the meeting of the \\\\nAssembly.\\\\n(4)The Speaker or the Deputy Speaker shall not preside \\\\nat a meeting of the Assembly when a resolution for his removal\\\\nfrom office is being considered.\\\\n(5)The Speaker may, by writing under his hand addressed \\\\nto the President, resign his office.\\\\n(6)The Deputy Speaker may, by writing under his hand \\\\naddressed to the Speaker, resign his office.\\\\n(7)The office of Speaker or Deputy Speaker shall become \\\\nvacant if– \\\\n(a)he resigns his office;\\\\n(b)he ceases to be a member of the Assembly; orDuration of \\\\nNational\\\\nAssembly.\\\\nSpeaker and \\\\nDeputy \\\\nSpeaker of \\\\nNational\\\\nAssembly.', 'response': 'The term of office for the President in the Federation of Pakistan is five years from the day he enters upon his office.'}\n",
            "{'retrieved_content': 'THE \\\\nCONSTITUTION \\\\nOF THE \\\\nISLAMIC REPUBLIC \\\\nOF PAKISTAN \\\\n[As modified upto the 31 st May, 2018] \\\\nNATIONAL ASSEMBLY OF PAKISTAN \\\\n, THE CONSTITUTION OF THE ISLAMIC REPUBLIC \\\\nOF PAKISTAN \\\\n____ \\\\nCONTENTS \\\\n____ \\\\nARTICLES PAGE \\\\nPreamble 1–3 \\\\nPART I 5–6 \\\\nIntroductory \\\\n1.The Republic and its territories.\\\\n2. Islam to be State religion.\\\\n2A.The Objectives Resolution to form part of\\\\nsubstantive provisions.\\\\n3.Elimination of exploitation.\\\\n4.Right of individuals to be dealt with in accor-\\\\ndance with law, etc.\\\\n5.Loyalty to State and obedience to Constitution \\\\nand law.\\\\n6.High treason.\\\\n–––– \\\\nPART II \\\\nFundamental Rights and Principles of Policy 7–20 \\\\n7.Definition of the State.\\\\nCHAPTER 1.–F UNDAMENTAL RIGHTS 7–16 \\\\n8.Laws inconsistent with or in derogation of Funda-\\\\nmental Rights to be void.\\\\n9.Security of person.\\\\n10.Safeguards as to arrest and detention.\\\\n10A.Right to fair trial.\\\\n11.Slavery, forced labour, etc., prohibited.CONSTITUTION OF PAKISTAN \\\\n(i), 1[ANNEX \\\\n(Article 2A) \\\\nThe Objectives Resolution \\\\n(In the name of Allah, the most Beneficent, \\\\nthe most merciful.) \\\\nWhereas sovereignty over the entire universe belongs to \\\\nAllah Almighty alone and the authority which He has delegated \\\\nto the State of Pakistan, through its people for being exercised \\\\nwithin the limits prescribed by Him is a sacred trust;\\\\nThis Constituent Assembly representing the people of\\\\nPakistan resolves to frame a Constitution for the sovereign \\\\nindependent State of Pakistan;\\\\nWherein the State shall exercise its powers and authority \\\\nthrough the chosen representatives of the people;\\\\nWherein the principles of democracy, freedom, equality,\\\\ntolerance and social justice as enunciated by Islam shall be fully \\\\nobserved;\\\\nWherein the Muslims shall be enabled to order their lives in \\\\nthe individual and collective spheres in accordance with the \\\\nteachings and requirements of Islam as set-out in the Holy Quran \\\\nand the Sunnah;\\\\nWherein adequate provision shall be made for the minorities \\\\nto 2[freely] profess and practise their religions and develop their\\\\ncultures;\\\\nWherein the territories now included in or in accession with \\\\nPakistan and such other territories as may hereafter be included in \\\\nor accede to Pakistan shall form a Federation wherein the units will\\\\nbe autonomous with such boundaries and limitations on their \\\\npowers and authority as may be prescribed;CONSTITUTION OF PAKISTAN 173 \\\\n________________________________________________________________ \\\\n1New Annex ins. by P.O. No. 14 of 1985, Art. 2 and Sch.\\\\n2Ins. by the Constitution (Eighteenth Amdt.) Act, 2010 (10 of 2010), s. 99. \\\\n, ARTICLES PAGE \\\\n256.Private armies forbidden.\\\\n257.Provision relating to the State of Jammu and \\\\nKashmir.\\\\n258.Government of territories outside Provinces.\\\\n259.Awards.\\\\nCHAPTER 5.–INTERPRETATION 149–155 \\\\n260.Definitions.\\\\n261.Person acting in office not to be regarded as \\\\nsuccessor to previous occupant of office, etc.\\\\n262.Gregorian calender to be used.\\\\n263.Gender and number.\\\\n264.Effect of repeal of laws.\\\\nCHAPTER 6.–T ITLE , C OMMENCEMENT AND REPEAL 155–156 \\\\n265.Title of Constitution and commencement.\\\\n266.Repeal.\\\\nCHAPTER 7.–T RANSITIONAL 156–172 \\\\n267.Power of President to remove difficulties.\\\\n267A.Power to remove difficulties.\\\\n267B.Removal of doubt.\\\\n268.Continuance in force, and adaptation of certain \\\\nlaws.\\\\n269.Validation of laws, acts, etc.\\\\n270.Temporary validation of certain laws, etc.\\\\n270A.Affirmation of President’s Orders, etc.\\\\n270AA.Declaration and continuance of Laws etc.\\\\n270B.Elections to be deemed to be held under Constitution.\\\\n270BB.General elections 2008.\\\\n270C.[Omitted. ]\\\\n271.First National Assembly.\\\\n272.First Constitution of Senate.\\\\n273.First Provincial Assembly.\\\\n274.Vesting of property, assets, rights, liabilities and \\\\nobligations.CONSTITUTION OF PAKISTAN \\\\n(xiv)', 'response': 'The constitution being discussed in the text is that of the Islamic Republic of Pakistan.'}\n",
            "{'retrieved_content': '(2)The Provincial Assembly shall meet on the twenty-first\\\\nday following the day on which a general election to the Assembly \\\\nis held, unless sooner summoned by the Governor.\\\\n(3) After the election of the Speaker and the Deputy Speaker,\\\\nthe Provincial Assembly shall, to the exclusion of any other \\\\nbusiness, proceed to elect without debate one of its members to be \\\\nthe Chief Minister.\\\\n(4)The Chief Minsiter shall be elected by the votes of the \\\\nmajority of the total membership of the Provincial Assembly:\\\\nProvided that, if no member secures such majority in the first\\\\npoll, a second poll shall be held between the members who secure \\\\nthe two highest numbers of votes in the first poll and the member\\\\nwho secures a majority of votes of the members present and voting \\\\nshall be declared to have been elected as Chief Minister:\\\\nProvided further that, if the number of votes secured by two \\\\nor more members securing the highest number of votes is equal,\\\\nfurther polls shall be held between them until one of them secures \\\\na majority of votes of the members present and voting.\\\\n(5)The member elected under clause (4) shall be called \\\\nupon by the Governor to assume the office of Chief Minister and \\\\nhe shall, before entering upon the office, make before the Governor\\\\noath in the form set out in the Third Schedule:\\\\nProvided that there shall be no restriction on the number of\\\\nterms for the office of the Chief Minister.\\\\n(6)The Cabinet shall be collectively responsible to the \\\\nProvincial Assembly and the total strength of the Cabinet shall not\\\\nexceed fifteen members or eleven percent of the total membership \\\\nof a Provincial Assembly, whichever is higher:\\\\nProvided that the aforesaid limit shall be effective from the \\\\nnext general elections after the commencement of the Constitution \\\\n(Eighteenth Amendment) Act, 2010.\\\\n(7)The Chief Minister shall hold office during the pleasure \\\\nof the Governor, but the Governor shall not exercise his powers \\\\nunder this clause unless he is satisfied that the Chief Minister does \\\\nnot command the confidence of the majority of the members of the \\\\nProvincial Assembly, in which case he shall summon the \\\\nProvincial Assembly and require the Chief Minister to obtain a \\\\nvote of confidence from the Assembly.CONSTITUTION OF PAKISTAN 69 , ARTICLES PAGE \\\\nCHAPTER 2.–P ROVINCIAL ASSEMBLIES 59–68 \\\\n106.Constitution of Provincial Assemblies.\\\\n107.Duration of Provincial Assembly.\\\\n108.Speaker and Deputy Speaker.\\\\n109.Summoning and prorogation of Provincial Assembly.\\\\n110.Right of Governor to address Provincial Assembly.\\\\n111.Right to speak in Provincial Assembly.\\\\n112.Dissolution of Provincial Assembly.\\\\n113.Qualifications and disqualifications for membership \\\\nof Provincial Assembly.\\\\n114.Restriction on discussion in Provincial Assembly.\\\\n115.Provincial Government’s consent required for \\\\nfinancial measures.\\\\n116.Governor’s assent to Bills.\\\\n117.Bill not to lapse on prorogation, etc.\\\\nFinancial Procedure \\\\n118.Provincial Consolidated Fund and Public Account.\\\\n119.Custody, etc., of Provincial Consolidated Fund and \\\\nPublic Account.\\\\n120.Annual Budget Statement.\\\\n121.Expenditure charged upon Provincial Consolidated Fund.\\\\n122.Procedure relating to Annual Budget Statement.\\\\n123.Authentication of schedule of authorized expenditure.\\\\n124.Supplementary and excess grant.\\\\n125.Votes on account.\\\\n126.Power to authorize expenditure when Assembly \\\\nstands dissolved.\\\\n127.Provisions relating to National Assembly, etc. to \\\\napply to Provincial Assembly, etc.\\\\nOrdinances \\\\n128.Power of Governor to promulgate Ordinances.CONSTITUTION OF PAKISTAN \\\\n(vi)', 'response': 'The Cabinet of the Provincial Assembly can have up to fifteen members or eleven percent of the total membership of the Provincial Assembly, whichever is higher.'}\n"
          ]
        }
      ],
      "source": [
        "import re\n",
        "question_responses = {}\n",
        "for question in questions:\n",
        "    # Assuming the correct method to invoke the chain and retriever\n",
        "    answer = chain.invoke({\"question\": question},{\"configurable\": {\"strategy\": index_name}},)\n",
        "    retrieves = retriever.invoke(question)\n",
        "\n",
        "    # Convert the retrieves result to a string\n",
        "    data_str = str(retrieves)\n",
        "\n",
        "    # Extracting page content using regex\n",
        "    page_contents = re.findall(r\"Document\\(page_content='(.*?)'\\)\", data_str, re.DOTALL)\n",
        "\n",
        "    # Combine page contents into a single string separated by commas\n",
        "    context = \", \".join(page_contents)\n",
        "\n",
        "    # Storing results in a dictionary\n",
        "    question_responses[question] = {\n",
        "        'retrieved_content': context,\n",
        "        'response': answer\n",
        "    }\n",
        "\n",
        "    # Print the current state of question_responses to see progressive updates\n",
        "    print(question_responses[question])"
      ]
    },
    {
      "cell_type": "code",
      "execution_count": 120,
      "metadata": {
        "id": "cU8-NFOcUrbM"
      },
      "outputs": [],
      "source": [
        "def save_to_json(question_responses,json_output_file):\n",
        "    # Create a list to hold the results in the required structure\n",
        "    results = {\"questions\": [], \"answers\": [], \"contexts\": []}\n",
        "    # Iterate through the question_responses dictionary\n",
        "    for question, data in question_responses.items():\n",
        "        results[\"questions\"].append(question)\n",
        "        results[\"answers\"].append(data['response'])\n",
        "        results[\"contexts\"].append(data['retrieved_content'])\n",
        "\n",
        "\n",
        "    # Write the results to a JSON file\n",
        "    with open(json_output_file, 'w') as file:\n",
        "        json.dump(results, file, indent=4)\n"
      ]
    },
    {
      "cell_type": "code",
      "execution_count": 121,
      "metadata": {
        "id": "NOrrcWsqAYaZ"
      },
      "outputs": [],
      "source": [
        "# Output JSON file path\n",
        "json_output_file = 'output/qa_results_neo4j.json'    #replace with your directory\n",
        "\n",
        "# Execute the function\n",
        "save_to_json(question_responses, json_output_file)"
      ]
    },
    {
      "cell_type": "code",
      "execution_count": null,
      "metadata": {
        "id": "cz65yjSeAYih"
      },
      "outputs": [],
      "source": []
    },
    {
      "cell_type": "code",
      "execution_count": null,
      "metadata": {
        "id": "CETFC_OtAYld"
      },
      "outputs": [],
      "source": []
    },
    {
      "cell_type": "code",
      "execution_count": null,
      "metadata": {
        "id": "0l3dOxTiAYoc"
      },
      "outputs": [],
      "source": []
    }
  ],
  "metadata": {
    "colab": {
      "provenance": []
    },
    "kernelspec": {
      "display_name": "Python 3",
      "name": "python3"
    },
    "language_info": {
      "name": "python"
    }
  },
  "nbformat": 4,
  "nbformat_minor": 0
}
